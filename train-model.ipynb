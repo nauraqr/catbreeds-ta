{
  "nbformat": 4,
  "nbformat_minor": 0,
  "metadata": {
    "colab": {
      "name": "catnew.ipynb",
      "provenance": [],
      "collapsed_sections": [],
      "authorship_tag": "ABX9TyNDhemQ1/oQQln0AAzAYDdk"
    },
    "kernelspec": {
      "name": "python3",
      "display_name": "Python 3"
    },
    "language_info": {
      "name": "python"
    },
    "accelerator": "GPU"
  },
  "cells": [
    {
      "cell_type": "code",
      "metadata": {
        "colab": {
          "base_uri": "https://localhost:8080/"
        },
        "id": "o5tNx7OVrPIM",
        "outputId": "af626659-80f5-4b7d-de5b-8212657ac4de"
      },
      "source": [
        "from google.colab import drive\n",
        "drive.mount(\"/content/gdrive\")"
      ],
      "execution_count": null,
      "outputs": [
        {
          "output_type": "stream",
          "name": "stdout",
          "text": [
            "Drive already mounted at /content/gdrive; to attempt to forcibly remount, call drive.mount(\"/content/gdrive\", force_remount=True).\n"
          ]
        }
      ]
    },
    {
      "cell_type": "code",
      "metadata": {
        "colab": {
          "base_uri": "https://localhost:8080/"
        },
        "id": "gQMWXrybrbw6",
        "outputId": "da0622ed-e2b8-46a8-cfee-0ca11300c180"
      },
      "source": [
        "cd '/content/gdrive/My Drive/'"
      ],
      "execution_count": null,
      "outputs": [
        {
          "output_type": "stream",
          "name": "stdout",
          "text": [
            "/content/gdrive/My Drive\n"
          ]
        }
      ]
    },
    {
      "cell_type": "code",
      "metadata": {
        "id": "xWDrXbyLrkg0"
      },
      "source": [
        "import tensorflow as tf\n",
        "from tensorflow.keras.preprocessing.image import ImageDataGenerator\n",
        "from tensorflow.keras.applications.xception import Xception\n",
        "from tensorflow.keras.models import Sequential\n",
        "from keras.layers.pooling import GlobalAveragePooling2D\n",
        "from tensorflow.keras.layers import Dense, Dropout\n",
        "from tensorflow.keras.optimizers import Adam\n",
        "from tensorflow.keras.callbacks import ModelCheckpoint, EarlyStopping\n",
        "from sklearn.model_selection import train_test_split \n",
        "from sklearn import metrics\n",
        "\n",
        "import pandas as pd\n",
        "import os\n",
        "import numpy as np\n",
        "import matplotlib.pyplot as plt"
      ],
      "execution_count": null,
      "outputs": []
    },
    {
      "cell_type": "code",
      "metadata": {
        "colab": {
          "base_uri": "https://localhost:8080/"
        },
        "id": "LWryJXJArpwl",
        "outputId": "c36a2241-673b-49b9-9c1f-5f277c715617"
      },
      "source": [
        "path = \"catbreeds/\"\n",
        "\n",
        "file_path = []\n",
        "file_name = []\n",
        "labels = []\n",
        "\n",
        "for dirpath, dirnames, files in os.walk(path):\n",
        "    for filename in files:\n",
        "        file_path.append(os.path.join(dirpath, filename))\n",
        "\n",
        "for image_file in file_path:\n",
        "    label = image_file.split(os.path.sep)[-2]\n",
        "    file_name.append(image_file)\n",
        "    labels.append(label)\n",
        "\n",
        "print('Jumlah dataset labels:', len(file_name))"
      ],
      "execution_count": null,
      "outputs": [
        {
          "output_type": "stream",
          "name": "stdout",
          "text": [
            "Jumlah dataset labels: 13060\n"
          ]
        }
      ]
    },
    {
      "cell_type": "code",
      "metadata": {
        "id": "1dd3EhOix_vE"
      },
      "source": [
        "# Define Input Parameters\n",
        "shape = (299, 299)\n",
        "channel = (3, )\n",
        "input_size = shape + channel\n",
        "\n",
        "#batch size\n",
        "batch_size = 32"
      ],
      "execution_count": null,
      "outputs": []
    },
    {
      "cell_type": "code",
      "metadata": {
        "colab": {
          "base_uri": "https://localhost:8080/"
        },
        "id": "LEniTIe-r993",
        "outputId": "2c0ca1d7-1c84-422e-eb0b-95686edd9148"
      },
      "source": [
        "train_datagen = ImageDataGenerator(rescale = 1./255, \n",
        "                                 rotation_range = 30, \n",
        "                                 width_shift_range = 0.2,\n",
        "                                 height_shift_range = 0.2,\n",
        "                                 shear_range = 0.2,\n",
        "                                 zoom_range = 0.2,\n",
        "                                 horizontal_flip = True)\n",
        "\n",
        "test_datagen =  ImageDataGenerator(rescale = 1. / 255,\n",
        "                                  horizontal_flip = True)\n",
        "\n",
        "train_gen = train_datagen.flow_from_directory('catbreeds/train/',\n",
        "                                            target_size = shape,\n",
        "                                            batch_size = batch_size,\n",
        "                                            class_mode = 'categorical',\n",
        "                                            shuffle = True)\n",
        "\n",
        "val_gen = test_datagen.flow_from_directory('catbreeds/val/',\n",
        "                                          target_size = shape,\n",
        "                                          batch_size = batch_size,\n",
        "                                          class_mode = 'categorical',\n",
        "                                          shuffle = False)\n",
        "\n",
        "test_gen= test_datagen.flow_from_directory('catbreeds/test/',\n",
        "                                          target_size = shape,\n",
        "                                          batch_size = batch_size,\n",
        "                                          class_mode = 'categorical',\n",
        "                                          shuffle = False)"
      ],
      "execution_count": null,
      "outputs": [
        {
          "output_type": "stream",
          "name": "stdout",
          "text": [
            "Found 10446 images belonging to 5 classes.\n",
            "Found 1302 images belonging to 5 classes.\n",
            "Found 1312 images belonging to 5 classes.\n"
          ]
        }
      ]
    },
    {
      "cell_type": "code",
      "metadata": {
        "colab": {
          "base_uri": "https://localhost:8080/"
        },
        "id": "G9bG3Y6myjid",
        "outputId": "d1e99c32-1e9d-48b4-c143-b4b25435b937"
      },
      "source": [
        "num_class = test_gen.num_classes\n",
        "label_class = train_gen.class_indices\n",
        "\n",
        "print(label_class)"
      ],
      "execution_count": null,
      "outputs": [
        {
          "output_type": "stream",
          "name": "stdout",
          "text": [
            "{'Bengal': 0, 'Calico': 1, 'Persian': 2, 'Siamese': 3, 'Sphynx': 4}\n"
          ]
        }
      ]
    },
    {
      "cell_type": "code",
      "metadata": {
        "colab": {
          "base_uri": "https://localhost:8080/"
        },
        "id": "rgrNsVnKzAIT",
        "outputId": "cddb0280-c1d0-4cc6-8c13-103da47f965b"
      },
      "source": [
        "base_model = Xception(include_top=False, weights='imagenet', input_tensor=None, \n",
        "                      input_shape=input_size, pooling=max, classes=num_class,\n",
        "                      classifier_activation='softmax')\n",
        "\n",
        "# adding custom layers\n",
        "model = Sequential()\n",
        "model.add(base_model)\n",
        "model.add(GlobalAveragePooling2D())\n",
        "model.add(Dense(256, activation='relu'))\n",
        "model.add(Dropout(0.5))\n",
        "model.add(Dense(num_class, activation = 'softmax'))\n",
        "\n",
        "base_model.trainable = False\n",
        "\n",
        "model.summary()"
      ],
      "execution_count": null,
      "outputs": [
        {
          "output_type": "stream",
          "name": "stdout",
          "text": [
            "Downloading data from https://storage.googleapis.com/tensorflow/keras-applications/xception/xception_weights_tf_dim_ordering_tf_kernels_notop.h5\n",
            "83689472/83683744 [==============================] - 1s 0us/step\n",
            "83697664/83683744 [==============================] - 1s 0us/step\n",
            "Model: \"sequential\"\n",
            "_________________________________________________________________\n",
            "Layer (type)                 Output Shape              Param #   \n",
            "=================================================================\n",
            "xception (Functional)        (None, 10, 10, 2048)      20861480  \n",
            "_________________________________________________________________\n",
            "global_average_pooling2d (Gl (None, 2048)              0         \n",
            "_________________________________________________________________\n",
            "dense (Dense)                (None, 256)               524544    \n",
            "_________________________________________________________________\n",
            "dropout (Dropout)            (None, 256)               0         \n",
            "_________________________________________________________________\n",
            "dense_1 (Dense)              (None, 5)                 1285      \n",
            "=================================================================\n",
            "Total params: 21,387,309\n",
            "Trainable params: 525,829\n",
            "Non-trainable params: 20,861,480\n",
            "_________________________________________________________________\n"
          ]
        }
      ]
    },
    {
      "cell_type": "code",
      "metadata": {
        "colab": {
          "base_uri": "https://localhost:8080/"
        },
        "id": "O8CLoNJizRbq",
        "outputId": "5b8fb570-cec2-457e-91d5-0c2280f3adf9"
      },
      "source": [
        "model.compile(optimizer = Adam(),\n",
        "             loss=\"categorical_crossentropy\",\n",
        "             metrics=[\"acc\"])\n",
        "\n",
        "base_path = 'train_model'\n",
        "trained_model_path = base_path + 'cat_model/'\n",
        "model_names = trained_model_path + '.{epoch:02d}-{val_acc:.2f}.h5'\n",
        "\n",
        "earlystopping = EarlyStopping(monitor =\"val_loss\", \n",
        "                              mode = \"auto\", patience = 15, \n",
        "                              restore_best_weights = True)\n",
        "\n",
        "checkpoint = ModelCheckpoint(model_names, monitor = 'val_loss',\n",
        "                             mode = 'auto', verbose = 1,\n",
        "                             save_best_only = True)\n",
        "\n",
        "history = model.fit(train_gen,\n",
        "                    steps_per_epoch = len(train_gen),\n",
        "                    validation_data = val_gen,\n",
        "                    validation_steps = len(val_gen),\n",
        "                    epochs = 100, verbose = 1, callbacks=[checkpoint, earlystopping])"
      ],
      "execution_count": null,
      "outputs": [
        {
          "output_type": "stream",
          "name": "stdout",
          "text": [
            "Epoch 1/100\n",
            "327/327 [==============================] - 3145s 10s/step - loss: 0.4285 - acc: 0.8496 - val_loss: 0.2760 - val_acc: 0.8971\n",
            "\n",
            "Epoch 00001: val_loss improved from inf to 0.27604, saving model to train_modelcat_model/.01-0.90.h5\n"
          ]
        },
        {
          "output_type": "stream",
          "name": "stderr",
          "text": [
            "/usr/local/lib/python3.7/dist-packages/keras/utils/generic_utils.py:497: CustomMaskWarning: Custom mask layers require a config and must override get_config. When loading, the custom mask layer must be passed to the custom_objects argument.\n",
            "  category=CustomMaskWarning)\n"
          ]
        },
        {
          "output_type": "stream",
          "name": "stdout",
          "text": [
            "Epoch 2/100\n",
            "327/327 [==============================] - 315s 964ms/step - loss: 0.3522 - acc: 0.8778 - val_loss: 0.2733 - val_acc: 0.8963\n",
            "\n",
            "Epoch 00002: val_loss improved from 0.27604 to 0.27325, saving model to train_modelcat_model/.02-0.90.h5\n",
            "Epoch 3/100\n",
            "327/327 [==============================] - 319s 973ms/step - loss: 0.3239 - acc: 0.8873 - val_loss: 0.2655 - val_acc: 0.9040\n",
            "\n",
            "Epoch 00003: val_loss improved from 0.27325 to 0.26548, saving model to train_modelcat_model/.03-0.90.h5\n",
            "Epoch 4/100\n",
            "327/327 [==============================] - 315s 962ms/step - loss: 0.3080 - acc: 0.8912 - val_loss: 0.2823 - val_acc: 0.8986\n",
            "\n",
            "Epoch 00004: val_loss did not improve from 0.26548\n",
            "Epoch 5/100\n",
            "327/327 [==============================] - 314s 960ms/step - loss: 0.2981 - acc: 0.8958 - val_loss: 0.2484 - val_acc: 0.9109\n",
            "\n",
            "Epoch 00005: val_loss improved from 0.26548 to 0.24837, saving model to train_modelcat_model/.05-0.91.h5\n",
            "Epoch 6/100\n",
            "327/327 [==============================] - 311s 951ms/step - loss: 0.2956 - acc: 0.8961 - val_loss: 0.2482 - val_acc: 0.9071\n",
            "\n",
            "Epoch 00006: val_loss improved from 0.24837 to 0.24820, saving model to train_modelcat_model/.06-0.91.h5\n",
            "Epoch 7/100\n",
            "327/327 [==============================] - 305s 933ms/step - loss: 0.2895 - acc: 0.8992 - val_loss: 0.2415 - val_acc: 0.9147\n",
            "\n",
            "Epoch 00007: val_loss improved from 0.24820 to 0.24155, saving model to train_modelcat_model/.07-0.91.h5\n",
            "Epoch 8/100\n",
            "327/327 [==============================] - 309s 943ms/step - loss: 0.2810 - acc: 0.9040 - val_loss: 0.2413 - val_acc: 0.9124\n",
            "\n",
            "Epoch 00008: val_loss improved from 0.24155 to 0.24127, saving model to train_modelcat_model/.08-0.91.h5\n",
            "Epoch 9/100\n",
            "327/327 [==============================] - 315s 961ms/step - loss: 0.2747 - acc: 0.9032 - val_loss: 0.2655 - val_acc: 0.9124\n",
            "\n",
            "Epoch 00009: val_loss did not improve from 0.24127\n",
            "Epoch 10/100\n",
            "327/327 [==============================] - 311s 952ms/step - loss: 0.2752 - acc: 0.9061 - val_loss: 0.2494 - val_acc: 0.9132\n",
            "\n",
            "Epoch 00010: val_loss did not improve from 0.24127\n",
            "Epoch 11/100\n",
            "327/327 [==============================] - 315s 962ms/step - loss: 0.2606 - acc: 0.9059 - val_loss: 0.2508 - val_acc: 0.9071\n",
            "\n",
            "Epoch 00011: val_loss did not improve from 0.24127\n",
            "Epoch 12/100\n",
            "327/327 [==============================] - 325s 993ms/step - loss: 0.2706 - acc: 0.9051 - val_loss: 0.2512 - val_acc: 0.9132\n",
            "\n",
            "Epoch 00012: val_loss did not improve from 0.24127\n",
            "Epoch 13/100\n",
            "327/327 [==============================] - 309s 944ms/step - loss: 0.2564 - acc: 0.9104 - val_loss: 0.2591 - val_acc: 0.9117\n",
            "\n",
            "Epoch 00013: val_loss did not improve from 0.24127\n",
            "Epoch 14/100\n",
            "327/327 [==============================] - 311s 950ms/step - loss: 0.2569 - acc: 0.9111 - val_loss: 0.2416 - val_acc: 0.9186\n",
            "\n",
            "Epoch 00014: val_loss did not improve from 0.24127\n",
            "Epoch 15/100\n",
            "327/327 [==============================] - 308s 942ms/step - loss: 0.2434 - acc: 0.9135 - val_loss: 0.2427 - val_acc: 0.9132\n",
            "\n",
            "Epoch 00015: val_loss did not improve from 0.24127\n",
            "Epoch 16/100\n",
            "327/327 [==============================] - 309s 945ms/step - loss: 0.2448 - acc: 0.9127 - val_loss: 0.2732 - val_acc: 0.9040\n",
            "\n",
            "Epoch 00016: val_loss did not improve from 0.24127\n",
            "Epoch 17/100\n",
            "327/327 [==============================] - 310s 947ms/step - loss: 0.2445 - acc: 0.9139 - val_loss: 0.2556 - val_acc: 0.9101\n",
            "\n",
            "Epoch 00017: val_loss did not improve from 0.24127\n",
            "Epoch 18/100\n",
            "327/327 [==============================] - 309s 943ms/step - loss: 0.2360 - acc: 0.9174 - val_loss: 0.2704 - val_acc: 0.9132\n",
            "\n",
            "Epoch 00018: val_loss did not improve from 0.24127\n",
            "Epoch 19/100\n",
            "327/327 [==============================] - 310s 946ms/step - loss: 0.2310 - acc: 0.9195 - val_loss: 0.2426 - val_acc: 0.9155\n",
            "\n",
            "Epoch 00019: val_loss did not improve from 0.24127\n",
            "Epoch 20/100\n",
            "327/327 [==============================] - 308s 941ms/step - loss: 0.2399 - acc: 0.9143 - val_loss: 0.2416 - val_acc: 0.9194\n",
            "\n",
            "Epoch 00020: val_loss did not improve from 0.24127\n",
            "Epoch 21/100\n",
            "327/327 [==============================] - 306s 934ms/step - loss: 0.2291 - acc: 0.9190 - val_loss: 0.2316 - val_acc: 0.9217\n",
            "\n",
            "Epoch 00021: val_loss improved from 0.24127 to 0.23156, saving model to train_modelcat_model/.21-0.92.h5\n",
            "Epoch 22/100\n",
            "327/327 [==============================] - 311s 949ms/step - loss: 0.2306 - acc: 0.9188 - val_loss: 0.2459 - val_acc: 0.9217\n",
            "\n",
            "Epoch 00022: val_loss did not improve from 0.23156\n",
            "Epoch 23/100\n",
            "327/327 [==============================] - 307s 938ms/step - loss: 0.2214 - acc: 0.9205 - val_loss: 0.2311 - val_acc: 0.9155\n",
            "\n",
            "Epoch 00023: val_loss improved from 0.23156 to 0.23110, saving model to train_modelcat_model/.23-0.92.h5\n",
            "Epoch 24/100\n",
            "327/327 [==============================] - 310s 947ms/step - loss: 0.2230 - acc: 0.9226 - val_loss: 0.2419 - val_acc: 0.9194\n",
            "\n",
            "Epoch 00024: val_loss did not improve from 0.23110\n",
            "Epoch 25/100\n",
            "327/327 [==============================] - 311s 951ms/step - loss: 0.2194 - acc: 0.9209 - val_loss: 0.2343 - val_acc: 0.9155\n",
            "\n",
            "Epoch 00025: val_loss did not improve from 0.23110\n",
            "Epoch 26/100\n",
            "327/327 [==============================] - 306s 934ms/step - loss: 0.2163 - acc: 0.9225 - val_loss: 0.2390 - val_acc: 0.9147\n",
            "\n",
            "Epoch 00026: val_loss did not improve from 0.23110\n",
            "Epoch 27/100\n",
            "327/327 [==============================] - 311s 949ms/step - loss: 0.2225 - acc: 0.9202 - val_loss: 0.2422 - val_acc: 0.9194\n",
            "\n",
            "Epoch 00027: val_loss did not improve from 0.23110\n",
            "Epoch 28/100\n",
            "327/327 [==============================] - 311s 949ms/step - loss: 0.2145 - acc: 0.9232 - val_loss: 0.2502 - val_acc: 0.9247\n",
            "\n",
            "Epoch 00028: val_loss did not improve from 0.23110\n",
            "Epoch 29/100\n",
            "327/327 [==============================] - 312s 954ms/step - loss: 0.2090 - acc: 0.9240 - val_loss: 0.2486 - val_acc: 0.9194\n",
            "\n",
            "Epoch 00029: val_loss did not improve from 0.23110\n",
            "Epoch 30/100\n",
            "327/327 [==============================] - 300s 915ms/step - loss: 0.2061 - acc: 0.9265 - val_loss: 0.2480 - val_acc: 0.9171\n",
            "\n",
            "Epoch 00030: val_loss did not improve from 0.23110\n",
            "Epoch 31/100\n",
            "327/327 [==============================] - 298s 910ms/step - loss: 0.2069 - acc: 0.9269 - val_loss: 0.2618 - val_acc: 0.9186\n",
            "\n",
            "Epoch 00031: val_loss did not improve from 0.23110\n",
            "Epoch 32/100\n",
            "327/327 [==============================] - 296s 905ms/step - loss: 0.1988 - acc: 0.9283 - val_loss: 0.2573 - val_acc: 0.9155\n",
            "\n",
            "Epoch 00032: val_loss did not improve from 0.23110\n",
            "Epoch 33/100\n",
            "327/327 [==============================] - 297s 907ms/step - loss: 0.1986 - acc: 0.9274 - val_loss: 0.2456 - val_acc: 0.9186\n",
            "\n",
            "Epoch 00033: val_loss did not improve from 0.23110\n",
            "Epoch 34/100\n",
            "327/327 [==============================] - 297s 907ms/step - loss: 0.2055 - acc: 0.9267 - val_loss: 0.2599 - val_acc: 0.9201\n",
            "\n",
            "Epoch 00034: val_loss did not improve from 0.23110\n",
            "Epoch 35/100\n",
            "327/327 [==============================] - 296s 905ms/step - loss: 0.1895 - acc: 0.9291 - val_loss: 0.2425 - val_acc: 0.9217\n",
            "\n",
            "Epoch 00035: val_loss did not improve from 0.23110\n",
            "Epoch 36/100\n",
            "327/327 [==============================] - 294s 898ms/step - loss: 0.1954 - acc: 0.9284 - val_loss: 0.2374 - val_acc: 0.9209\n",
            "\n",
            "Epoch 00036: val_loss did not improve from 0.23110\n",
            "Epoch 37/100\n",
            "327/327 [==============================] - 298s 911ms/step - loss: 0.1955 - acc: 0.9268 - val_loss: 0.2572 - val_acc: 0.9186\n",
            "\n",
            "Epoch 00037: val_loss did not improve from 0.23110\n",
            "Epoch 38/100\n",
            "327/327 [==============================] - 306s 935ms/step - loss: 0.1970 - acc: 0.9293 - val_loss: 0.2612 - val_acc: 0.9178\n",
            "\n",
            "Epoch 00038: val_loss did not improve from 0.23110\n"
          ]
        }
      ]
    },
    {
      "cell_type": "code",
      "metadata": {
        "id": "9hoiwG4a5d2H",
        "colab": {
          "base_uri": "https://localhost:8080/",
          "height": 573
        },
        "outputId": "7e4838e1-59c1-4aa4-934b-221dadfb3fbe"
      },
      "source": [
        "history.history['loss']\n",
        "history.history['acc']\n",
        "\n",
        "plt.plot(history.history['loss'], label = 'Training Loss')\n",
        "plt.plot(history.history['val_loss'], label = 'Validation Loss')\n",
        "plt.title('Training and Validation Loss')\n",
        "plt.ylabel('value')\n",
        "plt.xlabel('No. epoch')\n",
        "plt.legend(loc = \"upper left\")\n",
        "plt.show()\n",
        "\n",
        "plt.plot(history.history['acc'], label = 'Training Accuracy')\n",
        "plt.plot(history.history['val_acc'], label = 'Validation Accuracy')\n",
        "plt.title('Training and Validation Accuracy')\n",
        "plt.ylabel('value')\n",
        "plt.xlabel('No. epoch')\n",
        "plt.legend(loc=\"upper left\")\n",
        "plt.show()"
      ],
      "execution_count": null,
      "outputs": [
        {
          "output_type": "display_data",
          "data": {
            "image/png": "[encoded data removed]",
            "text/plain": [
              "<Figure size 432x288 with 1 Axes>"
            ]
          },
          "metadata": {
            "needs_background": "light"
          }
        },
        {
          "output_type": "display_data",
          "data": {
            "image/png": "[encoded data removed]",
            "text/plain": [
              "<Figure size 432x288 with 1 Axes>"
            ]
          },
          "metadata": {
            "needs_background": "light"
          }
        }
      ]
    },
    {
      "cell_type": "code",
      "metadata": {
        "id": "4_413xkR5ggv",
        "colab": {
          "base_uri": "https://localhost:8080/"
        },
        "outputId": "fe9c3f4b-1e32-411e-a4af-f2a722c761ab"
      },
      "source": [
        "from sklearn.metrics import ConfusionMatrixDisplay\n",
        "from sklearn.metrics import confusion_matrix\n",
        "from sklearn.metrics import classification_report\n",
        "\n",
        "pred = model.predict(test_gen)\n",
        "predictions = np.argmax(pred, axis=1)\n",
        "\n",
        "print('Confusion Matrix')\n",
        "print(confusion_matrix(test_gen.classes, predictions))\n",
        "\n",
        "print('Classification Report')\n",
        "target_names = ['Bengal', 'Calico', 'Persian', 'Siamese', 'Sphynx']\n",
        "print(classification_report(test_gen.classes, predictions, target_names=target_names))"
      ],
      "execution_count": null,
      "outputs": [
        {
          "output_type": "stream",
          "name": "stdout",
          "text": [
            "Confusion Matrix\n",
            "[[227  14   2   6   0]\n",
            " [ 16 312   8  11   1]\n",
            " [  3   1 393   6   0]\n",
            " [  4   7   8 271   0]\n",
            " [  1   0   0   1  20]]\n",
            "Classification Report\n",
            "              precision    recall  f1-score   support\n",
            "\n",
            "      Bengal       0.90      0.91      0.91       249\n",
            "      Calico       0.93      0.90      0.91       348\n",
            "     Persian       0.96      0.98      0.97       403\n",
            "     Siamese       0.92      0.93      0.93       290\n",
            "      Sphynx       0.95      0.91      0.93        22\n",
            "\n",
            "    accuracy                           0.93      1312\n",
            "   macro avg       0.93      0.93      0.93      1312\n",
            "weighted avg       0.93      0.93      0.93      1312\n",
            "\n"
          ]
        }
      ]
    },
    {
      "cell_type": "code",
      "metadata": {
        "colab": {
          "base_uri": "https://localhost:8080/"
        },
        "id": "c0h2t-ingUNO",
        "outputId": "13adca27-7c18-437d-ef81-b015c4c7bef2"
      },
      "source": [
        "model.save('saved_model/cat_model/catnew_model.h5')"
      ],
      "execution_count": null,
      "outputs": [
        {
          "output_type": "stream",
          "name": "stderr",
          "text": [
            "/usr/local/lib/python3.7/dist-packages/keras/utils/generic_utils.py:497: CustomMaskWarning: Custom mask layers require a config and must override get_config. When loading, the custom mask layer must be passed to the custom_objects argument.\n",
            "  category=CustomMaskWarning)\n"
          ]
        }
      ]
    },
    {
      "cell_type": "code",
      "metadata": {
        "colab": {
          "base_uri": "https://localhost:8080/",
          "height": 279
        },
        "id": "MZzjMobPO9pG",
        "outputId": "ab64763f-25f3-4285-8387-627702c070e5"
      },
      "source": [
        "cm = confusion_matrix(test_gen.classes, predictions)\n",
        "\n",
        "disp = ConfusionMatrixDisplay(confusion_matrix=cm, display_labels=target_names)\n",
        "\n",
        "disp.plot(cmap=plt.cm.Blues, values_format = 'd')\n",
        "plt.show()"
      ],
      "execution_count": null,
      "outputs": [
        {
          "output_type": "display_data",
          "data": {
            "image/png": "[encoded data removed]",
            "text/plain": [
              "<Figure size 432x288 with 2 Axes>"
            ]
          },
          "metadata": {
            "needs_background": "light"
          }
        }
      ]
    }
  ]
}